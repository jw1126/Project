{
  "nbformat": 4,
  "nbformat_minor": 0,
  "metadata": {
    "colab": {
      "provenance": []
    },
    "kernelspec": {
      "name": "python3",
      "display_name": "Python 3"
    },
    "language_info": {
      "name": "python"
    }
  },
  "cells": [
    {
      "cell_type": "markdown",
      "source": [
        "# discount factors and implied zero-coupon rates\n",
        "# Cubic Spline Interpolation\n",
        "# Linear Extrapolation\n",
        "# pricing a new bond"
      ],
      "metadata": {
        "id": "gg5ZvQax5NlZ"
      }
    },
    {
      "cell_type": "code",
      "source": [
        "import pandas as pd\n",
        "import numpy as np\n",
        "from scipy.interpolate import interp1d, CubicSpline\n",
        "import matplotlib.pyplot as plt"
      ],
      "metadata": {
        "id": "DKRxKKp05aHA"
      },
      "execution_count": null,
      "outputs": []
    },
    {
      "cell_type": "code",
      "source": [
        "def security_cashflow(security_data):\n",
        "    # Calculate the cash flows for each security\n",
        "    df = security_data\n",
        "    years = max(df['Maturity'])\n",
        "\n",
        "    cashflow = np.zeros((len(df), years))\n",
        "\n",
        "    for i, row in df.iterrows():\n",
        "        maturity = row['Maturity']\n",
        "        coupon = row['Coupon']\n",
        "\n",
        "        for year in range(1, years + 1):\n",
        "            if year < maturity:\n",
        "                cashflow[i, year - 1] = coupon / 100 * row['Notional']\n",
        "            elif year == maturity:\n",
        "                cashflow[i, year - 1] = coupon / 100 * row['Notional'] + row['Notional']\n",
        "            else:\n",
        "                cashflow[i, year - 1] = 0\n",
        "\n",
        "    cashflow_df = pd.DataFrame(cashflow)\n",
        "    cashflow_df.columns = range(1, years + 1)\n",
        "    cashflow_df.insert(0, 'Name', df['Name'])\n",
        "    return cashflow_df\n",
        "\n",
        "def calculate_discount_factor(security_data, cashflow):\n",
        "    # Calculate the discount factors for each security\n",
        "    df = security_data\n",
        "    years = max(df['Maturity'])\n",
        "    cashflow_df = cashflow\n",
        "    discount_factor = np.zeros(years)\n",
        "\n",
        "    # Calculate the discount factor\n",
        "    for i, row in df.iterrows():\n",
        "        maturity = row['Maturity']\n",
        "        quote = row['Quote']\n",
        "\n",
        "        # Initialize the numerator for discount factor calculation\n",
        "        numerator = quote\n",
        "\n",
        "        # Calculate the discounted cash flows\n",
        "        for j in range(1, maturity):\n",
        "            numerator -= cashflow_df.loc[i, maturity - j] * discount_factor[maturity - j - 1]\n",
        "\n",
        "        discount_factor[maturity - 1] = numerator / cashflow_df.loc[i, maturity]\n",
        "\n",
        "    discount_df = pd.DataFrame({'Term': range(1, years + 1), 'Discount Factor': discount_factor})\n",
        "\n",
        "    return discount_df\n",
        "\n",
        "def calculate_zero_rates(discount_factors):\n",
        "    # Calculate the zero coupon rates from the discount factors\n",
        "    zero_rates = []\n",
        "    for year, discount_factor in enumerate(discount_factors['Discount Factor'], start=1):\n",
        "        rate = (((1 / discount_factor) ** (1 / year)) - 1) * 100\n",
        "        zero_rates.append(rate)\n",
        "    zero_df = pd.DataFrame(zero_rates, columns=['Zero Rate'])\n",
        "    zero_df.insert(0, 'Year', range(1, len(discount_factors) + 1))\n",
        "    return zero_df\n",
        "\n",
        "def calculate_bond_price(zero_rates, notional, maturity, coupon_rate):\n",
        "    # Calculate the price of a bond given the zero rates\n",
        "    years = len(zero_rates)\n",
        "    cashflow = np.zeros(years)\n",
        "    coupon_payment = notional * coupon_rate / 100\n",
        "\n",
        "    for year in range(1, years + 1):\n",
        "        cashflow[year - 1] = coupon_payment\n",
        "\n",
        "    cashflow[-1] += notional\n",
        "\n",
        "    discount_factors = 1 / ((1 + zero_rates['Zero Rate'] / 100) ** zero_rates['Year'])\n",
        "    present_value = np.dot(cashflow, discount_factors)\n",
        "\n",
        "    return present_value\n",
        "\n",
        "def cubic_spline_interpolation(zero_rates):\n",
        "    # Perform cubic spline interpolation on the zero rates\n",
        "    x = zero_rates['Year'].values\n",
        "    y = zero_rates['Zero Rate'].values / 100\n",
        "\n",
        "    # Create the extrapolation function\n",
        "    extrap_func = interp1d(x, y, kind='linear', fill_value='extrapolate')\n",
        "\n",
        "    # Generate x-coordinates for plotting\n",
        "    x_plot = np.linspace(min(x), 10, 100)\n",
        "\n",
        "    # Evaluate the extrapolated y-coordinates\n",
        "    y_plot = extrap_func(x_plot)\n",
        "\n",
        "    # Extrapolate the zero coupon rates for periods 9 and 10\n",
        "    x_extrap = np.array([len(zero_rates) + 1, len(zero_rates) + 2])\n",
        "    y_extrap = extrap_func(x_extrap)\n",
        "\n",
        "    # Create the cubic spline interpolation function\n",
        "    cs = CubicSpline(x, y)\n",
        "\n",
        "    # Generate x-coordinates for plotting\n",
        "    x_plot_CubicSpline = np.linspace(1, 10, 100)\n",
        "\n",
        "    # Evaluate the interpolated y-coordinates\n",
        "    y_plot_CubicSpline = cs(x_plot_CubicSpline)\n",
        "\n",
        "    # Evaluate the interpolated zero coupon rates for periods 9 and 10\n",
        "    x_interp_CubicSpline = np.array([len(zero_rates) + 1, len(zero_rates) + 2])\n",
        "    y_interp_CubicSpline = cs(x_interp_CubicSpline)\n",
        "\n",
        "    # Plot the linear extrapolation line\n",
        "    plt.plot(x_plot, y_plot, label='Linear Extrapolation')\n",
        "    plt.scatter(x, y, color='red', label='Data Points')\n",
        "    plt.scatter(x_extrap, y_extrap, color='green', label='Extrapolated Points')\n",
        "\n",
        "    # Plot the cubic spline interpolation line\n",
        "    plt.plot(x_plot_CubicSpline, y_plot_CubicSpline, label='Cubic Spline')\n",
        "    plt.scatter(x_interp_CubicSpline, y_interp_CubicSpline, color='blue', label='Interpolated Points')\n",
        "\n",
        "    plt.xlabel('Year')\n",
        "    plt.ylabel('Zero Coupon Rate')\n",
        "    plt.title('Linear Extrapolation and Cubic Spline Interpolation of Zero Coupon Rates')\n",
        "    plt.legend()\n",
        "    plt.grid(True)\n",
        "    plt.show()\n",
        "\n",
        "    return y_extrap[0], y_extrap[1], y_interp_CubicSpline[0], y_interp_CubicSpline[1]\n",
        "\n",
        "\n"
      ],
      "metadata": {
        "id": "IXsX3PBnWbn4"
      },
      "execution_count": null,
      "outputs": []
    },
    {
      "cell_type": "markdown",
      "source": [
        "#setting up"
      ],
      "metadata": {
        "id": "-1aR-eEi24Qs"
      }
    },
    {
      "cell_type": "code",
      "source": [
        "# Input data\n",
        "data = {\n",
        "    'Name': ['T-bill I','T-bond I', 'T-bill II',  'T-bond II', 'T-bond III', 'T-bond IV'],\n",
        "    'Notional': [100, 100, 100, 100, 100, 100],\n",
        "    'Maturity': [1, 2, 3, 4, 5, 6],\n",
        "    'Coupon': [0.00, 2.25, 0.00, 2.75, 1.00, 3.00],\n",
        "    'Quote': [97.6345, 99.5029, 92.6356, 100.55, 92.5024, 101.9794]\n",
        "}\n",
        "security_data = pd.DataFrame(data)\n",
        "security_data = security_data.sort_values('Maturity')\n",
        "\n",
        "print(\"Sorted Data:\")\n",
        "print(security_data)\n",
        "print()\n",
        "\n",
        "cash_flow = security_cashflow(security_data)\n",
        "\n",
        "print(\"Cash Flow:\")\n",
        "print(cash_flow)\n",
        "print()\n"
      ],
      "metadata": {
        "colab": {
          "base_uri": "https://localhost:8080/"
        },
        "id": "Gl7zgIMB294z",
        "outputId": "56b2e5cf-829e-4794-dc78-213095ea5ca6"
      },
      "execution_count": null,
      "outputs": [
        {
          "output_type": "stream",
          "name": "stdout",
          "text": [
            "Sorted Data:\n",
            "         Name  Notional  Maturity  Coupon     Quote\n",
            "0    T-bill I       100         1    0.00   97.6345\n",
            "1    T-bond I       100         2    2.25   99.5029\n",
            "2   T-bill II       100         3    0.00   92.6356\n",
            "3   T-bond II       100         4    2.75  100.5500\n",
            "4  T-bond III       100         5    1.00   92.5024\n",
            "5   T-bond IV       100         6    3.00  101.9794\n",
            "\n",
            "Cash Flow:\n",
            "         Name       1       2       3       4      5      6\n",
            "0    T-bill I  100.00    0.00    0.00    0.00    0.0    0.0\n",
            "1    T-bond I    2.25  102.25    0.00    0.00    0.0    0.0\n",
            "2   T-bill II    0.00    0.00  100.00    0.00    0.0    0.0\n",
            "3   T-bond II    2.75    2.75    2.75  102.75    0.0    0.0\n",
            "4  T-bond III    1.00    1.00    1.00    1.00  101.0    0.0\n",
            "5   T-bond IV    3.00    3.00    3.00    3.00    3.0  103.0\n",
            "\n"
          ]
        }
      ]
    },
    {
      "cell_type": "markdown",
      "source": [
        "discount factors and implied zero-coupon rates"
      ],
      "metadata": {
        "id": "6utC0Wz72x81"
      }
    },
    {
      "cell_type": "code",
      "source": [
        "discount_factors = calculate_discount_factor(security_data, cash_flow)\n",
        "\n",
        "print(\"Discount Factors:\")\n",
        "print(discount_factors)\n",
        "print()\n",
        "\n",
        "zero_rates = calculate_zero_rates(discount_factors)\n",
        "\n",
        "print(\"Zero Rates:\")\n",
        "print(zero_rates)\n",
        "print()\n"
      ],
      "metadata": {
        "colab": {
          "base_uri": "https://localhost:8080/"
        },
        "id": "KV3lW5zjXeSu",
        "outputId": "f6ac6d41-d6c2-43fd-a9bd-2d5b9cfb1a05"
      },
      "execution_count": null,
      "outputs": [
        {
          "output_type": "stream",
          "name": "stdout",
          "text": [
            "Discount Factors:\n",
            "   Term  Discount Factor\n",
            "0     1         0.976345\n",
            "1     2         0.951649\n",
            "2     3         0.926356\n",
            "3     4         0.902195\n",
            "4     5         0.878672\n",
            "5     6         0.855085\n",
            "\n",
            "Zero Rates:\n",
            "   Year  Zero Rate\n",
            "0     1   2.422812\n",
            "1     2   2.508900\n",
            "2     3   2.582677\n",
            "3     4   2.606505\n",
            "4     5   2.620626\n",
            "5     6   2.643580\n",
            "\n"
          ]
        }
      ]
    },
    {
      "cell_type": "markdown",
      "source": [
        "pricing a new bond introduced into the market with a $100 notional, 6-year maturity and an annual coupon rate of 2.50%"
      ],
      "metadata": {
        "id": "g4S9Bohy3JD_"
      }
    },
    {
      "cell_type": "code",
      "source": [
        "bond_price = calculate_bond_price(zero_rates, 100, 6, 2.50)\n",
        "\n",
        "print(\"Bond Price:\")\n",
        "print(bond_price)\n",
        "print()\n"
      ],
      "metadata": {
        "colab": {
          "base_uri": "https://localhost:8080/"
        },
        "id": "TwVb9-Y83KB9",
        "outputId": "8e545075-c015-48d1-953d-0778e2a23802"
      },
      "execution_count": null,
      "outputs": [
        {
          "output_type": "stream",
          "name": "stdout",
          "text": [
            "Bond Price:\n",
            "99.23424904322735\n",
            "\n"
          ]
        }
      ]
    },
    {
      "cell_type": "markdown",
      "source": [
        "#100 notional (no coupon), a maturity date of 8 years and a market price of $80.6470.\n",
        "##discount factor and zero rate associated with year 8\n",
        "##discount factor and zero rate associated with year 7"
      ],
      "metadata": {
        "id": "hX_ilcXj3XpL"
      }
    },
    {
      "cell_type": "code",
      "source": [
        "y8_price = 80.6470\n",
        "y8_notional = 100\n",
        "maturity_year = 8\n",
        "y8_zero_rate = ((y8_notional / y8_price) ** (1 / maturity_year) - 1) * 100\n",
        "y8_discount_factor = 1 / (1 + y8_zero_rate / 100) ** maturity_year\n",
        "\n",
        "y7_zero_rate = ((y8_zero_rate / 100 - zero_rates.loc[5, 'Zero Rate'] / 100) +\n",
        "                2 * zero_rates.loc[5, 'Zero Rate'] / 100) / 2 * 100\n",
        "y7_discount_factor = 1 / (1 + y7_zero_rate / 100) ** 7\n",
        "\n",
        "zero_rates.loc[6, 'Year'] = 7\n",
        "zero_rates.loc[6, 'Zero Rate'] = y7_zero_rate\n",
        "\n",
        "zero_rates.loc[7, 'Year'] = 8\n",
        "zero_rates.loc[7, 'Zero Rate'] = y8_zero_rate\n",
        "\n",
        "discount_factors.loc[6, 'Term'] = 7\n",
        "discount_factors.loc[6, 'Discount Factor'] = y7_discount_factor\n",
        "\n",
        "discount_factors.loc[7, 'Term'] = 8\n",
        "discount_factors.loc[7, 'Discount Factor'] = y8_discount_factor\n",
        "\n",
        "zero_rates.loc[6] = [7, y7_zero_rate]\n",
        "\n",
        "zero_rates = zero_rates.sort_values('Year')\n",
        "zero_rates = zero_rates.reset_index(drop=True)\n",
        "\n",
        "print(\"Updated Zero Rates:\")\n",
        "print(zero_rates)\n",
        "print()\n",
        "\n",
        "print(\"Updated Discount Factors:\")\n",
        "print(discount_factors)\n",
        "print()\n"
      ],
      "metadata": {
        "colab": {
          "base_uri": "https://localhost:8080/"
        },
        "id": "JYzlYT6_3h_b",
        "outputId": "ef7e96c8-6bd3-4e85-c7f5-93121815fefb"
      },
      "execution_count": null,
      "outputs": [
        {
          "output_type": "stream",
          "name": "stdout",
          "text": [
            "Updated Zero Rates:\n",
            "   Year  Zero Rate\n",
            "0   1.0   2.422812\n",
            "1   2.0   2.508900\n",
            "2   3.0   2.582677\n",
            "3   4.0   2.606505\n",
            "4   5.0   2.620626\n",
            "5   6.0   2.643580\n",
            "6   7.0   2.684328\n",
            "7   8.0   2.725076\n",
            "\n",
            "Updated Discount Factors:\n",
            "   Term  Discount Factor\n",
            "0   1.0         0.976345\n",
            "1   2.0         0.951649\n",
            "2   3.0         0.926356\n",
            "3   4.0         0.902195\n",
            "4   5.0         0.878672\n",
            "5   6.0         0.855085\n",
            "6   7.0         0.830751\n",
            "7   8.0         0.806470\n",
            "\n"
          ]
        }
      ]
    },
    {
      "cell_type": "markdown",
      "source": [
        "# price of new bond introduced into the market with a $100 notional, 10-year maturity and an annual coupon rate of 3.50%"
      ],
      "metadata": {
        "id": "MXKSUVRt3z2P"
      }
    },
    {
      "cell_type": "code",
      "source": [
        "le_9, le_10, cs_9, cs_10 = cubic_spline_interpolation(zero_rates)\n",
        "zero_rates_cs = zero_rates\n",
        "zero_rates.loc[8, 'Year'] = 9\n",
        "zero_rates.loc[8, 'Zero Rate'] = le_9*100\n",
        "zero_rates.loc[9, 'Year'] = 10\n",
        "zero_rates.loc[9, 'Zero Rate'] = le_10*100\n",
        "\n",
        "print(\"Updated Zero Rates using Linear Extrapolation:\")\n",
        "print(zero_rates)\n",
        "\n",
        "ten_yr_bond_price = calculate_bond_price(zero_rates, 100, 10, 3.50)\n",
        "print(\"Bond Price using Linear Extrapolation Estimated Zero Coupon Rate: \",ten_yr_bond_price)\n",
        "print()\n",
        "\n",
        "\n",
        "zero_rates_cs.loc[8, 'Year'] = 9\n",
        "zero_rates_cs.loc[8, 'Zero Rate'] = cs_9*100\n",
        "zero_rates_cs.loc[9, 'Year'] = 10\n",
        "zero_rates_cs.loc[9, 'Zero Rate'] = cs_10*100\n",
        "\n",
        "print(\"Updated Zero Rates using Cubic Spline Interpolation :\")\n",
        "print(zero_rates)\n",
        "\n",
        "\n",
        "ten_yr_bond_price_cs = calculate_bond_price(zero_rates_cs, 100, 10, 3.50)\n",
        "print(\"Bond Price using Cubic Spline Interpolation Estimated Zero Coupon Rate : \", ten_yr_bond_price_cs)\n"
      ],
      "metadata": {
        "colab": {
          "base_uri": "https://localhost:8080/",
          "height": 472
        },
        "id": "isj9b0Ng35rI",
        "outputId": "ad240fcb-3067-452d-e364-30640b26c4dc"
      },
      "execution_count": null,
      "outputs": [
        {
          "output_type": "display_data",
          "data": {
            "text/plain": [
              "<Figure size 640x480 with 1 Axes>"
            ],
            "image/png": "[encoded data removed]"
          },
          "metadata": {}
        }
      ]
    }
  ]
}